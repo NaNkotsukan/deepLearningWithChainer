{
  "nbformat": 4,
  "nbformat_minor": 0,
  "metadata": {
    "colab": {
      "name": "AutoEncoder.ipynb",
      "version": "0.3.2",
      "provenance": [],
      "collapsed_sections": [],
      "include_colab_link": true
    },
    "kernelspec": {
      "name": "python3",
      "display_name": "Python 3"
    },
    "accelerator": "GPU"
  },
  "cells": [
    {
      "cell_type": "markdown",
      "metadata": {
        "id": "view-in-github",
        "colab_type": "text"
      },
      "source": [
        "[View in Colaboratory](https://colab.research.google.com/github/NaNkotsukan/deepLearningWithChainer/blob/master/AutoEncoder.ipynb)"
      ]
    },
    {
      "metadata": {
        "id": "rYI3u20Tb7AK",
        "colab_type": "text"
      },
      "cell_type": "markdown",
      "source": [
        "## 環境設定"
      ]
    },
    {
      "metadata": {
        "id": "35_0km1lb5nJ",
        "colab_type": "code",
        "colab": {}
      },
      "cell_type": "code",
      "source": [
        "!apt -y install libcusparse8.0 libnvrtc8.0 libnvtoolsext1\n",
        "!ln -snf /usr/lib/x86_64-linux-gnu/libnvrtc-builtins.so.8.0 /usr/lib/x86_64-linux-gnu/libnvrtc-builtins.so\n",
        "!pip install cupy-cuda80 chainer matplotlib\n",
        "!nvidia-smi"
      ],
      "execution_count": 0,
      "outputs": []
    },
    {
      "metadata": {
        "id": "_Ocik3jOTLU1",
        "colab_type": "text"
      },
      "cell_type": "markdown",
      "source": [
        "# AutoEncoder を使った異常検知\n",
        "AutoEncoderとは自己符号化器のことである．\n",
        "入力と出力を同じにして中間層を絞ることで特徴量を抽出することが出来る．"
      ]
    },
    {
      "metadata": {
        "id": "ppd8D8w9S8z1",
        "colab_type": "code",
        "colab": {}
      },
      "cell_type": "code",
      "source": [
        "from chainer import Chain, serializers, computational_graph\n",
        "from chainer import Variable as V\n",
        "import chainer.functions as F\n",
        "import chainer.links as L\n",
        "import chainer.computational_graph as C\n",
        "from chainer.optimizers import Adam, SGD\n",
        "import chainer\n",
        "\n",
        "import matplotlib.pyplot as plt\n",
        "import matplotlib.image as mpimg\n",
        "from IPython.display import Image, display\n",
        "\n",
        "import os\n",
        "import numpy as np\n",
        "import cupy as cp\n",
        "\n",
        "%matplotlib inline"
      ],
      "execution_count": 0,
      "outputs": []
    },
    {
      "metadata": {
        "id": "BMPJGqreeBJ5",
        "colab_type": "text"
      },
      "cell_type": "markdown",
      "source": [
        "### データセットの読み込み"
      ]
    },
    {
      "metadata": {
        "id": "dleVQ3MneAfG",
        "colab_type": "code",
        "colab": {}
      },
      "cell_type": "code",
      "source": [
        "train, test = chainer.datasets.get_mnist(ndim=3)\n",
        "train_x = train._datasets[0]\n",
        "train_t = train._datasets[1]\n",
        "test_x = test._datasets[0]\n",
        "test_t = test._datasets[1]\n",
        "\n",
        "print(train_x.shape)\n",
        "print(train_t.shape)\n",
        "print(test_x.shape)\n",
        "print(test_t.shape)"
      ],
      "execution_count": 0,
      "outputs": []
    },
    {
      "metadata": {
        "id": "Fw5L8SfJ1744",
        "colab_type": "code",
        "colab": {}
      },
      "cell_type": "code",
      "source": [
        "def show_img(img, title=None):\n",
        "    fig = plt.figure(figsize=(15, 20))\n",
        "    for i in range(len(img)):\n",
        "        if img[i].ndim==3: x = img[i][0]\n",
        "        else: x = img[i]\n",
        "        a = fig.add_subplot(1, len(img), i+1)\n",
        "        a.imshow(x)\n",
        "        plt.xlim((0, 28))\n",
        "        plt.ylim((28, 0))\n",
        "        plt.tick_params(labelbottom=False, labelleft=False)\n",
        "        if title != None:\n",
        "            plt.title(title[i], fontsize=15)\n",
        "        plt.grid()\n",
        "    plt.show()"
      ],
      "execution_count": 0,
      "outputs": []
    },
    {
      "metadata": {
        "id": "y7tisLkyfB8C",
        "colab_type": "text"
      },
      "cell_type": "markdown",
      "source": [
        "## モデルを定義する"
      ]
    },
    {
      "metadata": {
        "id": "4QDEeeRgfMaJ",
        "colab_type": "code",
        "colab": {}
      },
      "cell_type": "code",
      "source": [
        "class AutoEncoder(Chain):\n",
        "    def __init__(self):\n",
        "        super(AutoEncoder, self).__init__()\n",
        "        with self.init_scope():\n",
        "            self.l0 = L.Linear(784, 500)\n",
        "            self.l1 = L.Linear(500, 300)\n",
        "            self.l2 = L.Linear(300, 200)\n",
        "            self.l3 = L.Linear(200, 100)\n",
        "            self.l4 = L.Linear(100, 50)\n",
        "            self.l5 = L.Linear(50, 100)\n",
        "            self.l6 = L.Linear(100, 200)\n",
        "            self.l7 = L.Linear(200, 300)\n",
        "            self.l8 = L.Linear(300, 500)\n",
        "            self.l9 = L.Linear(500, 784)\n",
        "\n",
        "\n",
        "    def __call__(self, x):\n",
        "        h = F.relu(self.l0(x))\n",
        "        h = F.relu(self.l1(h))\n",
        "        h = F.relu(self.l2(h))\n",
        "        h = F.relu(self.l3(h))\n",
        "        h = F.relu(self.l4(h))\n",
        "        h = F.relu(self.l5(h))\n",
        "        h = F.relu(self.l6(h))\n",
        "        h = F.relu(self.l7(h))\n",
        "        h = F.relu(self.l8(h))\n",
        "        h = self.l9(h)\n",
        "        h = F.reshape(h, (-1, 1, 28, 28))\n",
        "        return h"
      ],
      "execution_count": 0,
      "outputs": []
    },
    {
      "metadata": {
        "id": "0vHaCJtDkh6Y",
        "colab_type": "text"
      },
      "cell_type": "markdown",
      "source": [
        "## trainingクラスの定義"
      ]
    },
    {
      "metadata": {
        "id": "QyV6m2hNmTPi",
        "colab_type": "code",
        "colab": {}
      },
      "cell_type": "code",
      "source": [
        "class Training:\n",
        "    def __init__(self, model):\n",
        "        self.model = model\n",
        "        self.optimizer = Adam()\n",
        "        self.optimizer.setup(self.model)\n",
        "        self.model.to_gpu()\n",
        "\n",
        "    def test(self, z):\n",
        "        y = self.model(z).data.get()\n",
        "        show_img(y)\n",
        "\n",
        "    def batch(self, x):\n",
        "        y = self.model(x)\n",
        "        loss = F.mean_squared_error(x, y)\n",
        "        \n",
        "        self.model.cleargrads()\n",
        "        loss.backward()\n",
        "        self.optimizer.update()\n",
        "        \n",
        "        return loss.data\n",
        "\n",
        "    def training(self, epoch, batchsize):\n",
        "        for i in range(epoch):\n",
        "              index = np.random.permutation(len(train_x))\n",
        "              for j in range(0, len(train_x), batchsize):\n",
        "                x = cp.asarray(train_x[index[j:j+batchsize]]).astype(np.float32).reshape(batchsize, 1, 28, 28)\n",
        "                loss = self.batch(x)\n",
        "                if j%10000==0:\n",
        "                    print(f\"epoch:{i:3d} batch:{j:6d} loss:{float(loss):0.4f}\")\n",
        "              x = cp.asarray(test_x[:10])\n",
        "              self.test(x)\n",
        "              \n",
        "\n"
      ],
      "execution_count": 0,
      "outputs": []
    },
    {
      "metadata": {
        "id": "o_NxV4hOogW8",
        "colab_type": "code",
        "colab": {}
      },
      "cell_type": "code",
      "source": [
        "model = AutoEncoder()\n",
        "hoge = Training(model)\n",
        "hoge.training(epoch=10, batchsize=50)"
      ],
      "execution_count": 0,
      "outputs": []
    },
    {
      "metadata": {
        "id": "Ekl-hLqKsfky",
        "colab_type": "text"
      },
      "cell_type": "markdown",
      "source": [
        "## 異常の有る画像を生成する関数の定義"
      ]
    },
    {
      "metadata": {
        "id": "SFjpzK2_sxv5",
        "colab_type": "code",
        "colab": {}
      },
      "cell_type": "code",
      "source": [
        "def noise0(x):\n",
        "    y = np.array(x)\n",
        "    a = np.random.uniform(0., 1., test.shape)<0.01\n",
        "    y[a] = 1-y[a]\n",
        "    return y\n",
        "\n",
        "def noise1(x):\n",
        "    y = np.array(x)\n",
        "    y[:,:,:,15:17] = 1\n",
        "    return y"
      ],
      "execution_count": 0,
      "outputs": []
    },
    {
      "metadata": {
        "id": "EnpE90KdF2Oz",
        "colab_type": "code",
        "colab": {}
      },
      "cell_type": "code",
      "source": [
        "original = test_x[:10]\n",
        "test = noise0(original)\n",
        "# test = noise1(test)\n",
        "\n",
        "result = model(cp.asarray(test)).data.get()\n",
        "for i in range(10):\n",
        "    show_img([original[i], test[i], result[i], np.absolute(test[i]-result[i])], [\"original\", \"x\", \"y\", \"diff\"])\n"
      ],
      "execution_count": 0,
      "outputs": []
    }
  ]
}