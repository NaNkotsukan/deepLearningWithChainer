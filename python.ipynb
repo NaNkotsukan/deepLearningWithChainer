{
  "nbformat": 4,
  "nbformat_minor": 0,
  "metadata": {
    "colab": {
      "name": "python.ipynb",
      "version": "0.3.2",
      "provenance": [],
      "collapsed_sections": [],
      "include_colab_link": true
    },
    "kernelspec": {
      "display_name": "Python 3",
      "language": "python",
      "name": "python3"
    }
  },
  "cells": [
    {
      "cell_type": "markdown",
      "metadata": {
        "id": "view-in-github",
        "colab_type": "text"
      },
      "source": [
        "[View in Colaboratory](https://colab.research.google.com/github/NaNkotsukan/deepLearningWithChainer/blob/master/python.ipynb)"
      ]
    },
    {
      "metadata": {
        "id": "h-wcrg-9lA_H",
        "colab_type": "text"
      },
      "cell_type": "markdown",
      "source": [
        "# 目次\n",
        "\n",
        "1. [Pythonとは](#_0)\n",
        "2. [出来ること](#_1)\n",
        "3. [プログラミングを学習するにあたって](#_2)\n",
        "4. [文字列の表示とプログラムの実行](#_3)\n",
        "5. [型](#_4)\n",
        "6. [変数と四則演算](#_5)\n",
        "7. [リスト](#_6)\n",
        "8. [文字列の操作](#_7)\n",
        "9. [比較演算子と論理演算子](#_8)\n",
        "10. [if文](#_9)\n",
        "11. [for文](#_10)\n",
        "12. [関数の定義](#_11)\n",
        "13. [クラスの定義](#_12)"
      ]
    },
    {
      "metadata": {
        "id": "YSszVYtWlA_H",
        "colab_type": "text"
      },
      "cell_type": "markdown",
      "source": [
        "# Pythonとは<a name=\"_0\"></a>\n",
        " - オブジェクト指向, 命令形, 関数型, 手続き型, リフレクティブなどのパラダイムを持つマルチパラダイム言語である．\n",
        " - インデントが構文規則で決められており誰が書いても似たコードになり読みやすい．\n",
        " - ライブラリが豊富なので色々な事が簡単に出来る．\n",
        " - プログラミング入門者,初学者が学ぶには適した言語である"
      ]
    },
    {
      "metadata": {
        "id": "VF6NSX4mlA_I",
        "colab_type": "text"
      },
      "cell_type": "markdown",
      "source": [
        "# 出来ること<a name=\"_1\"></a>\n",
        "多くのことは出来るがよく以下のことに多く用いられる。\n",
        "+ web開発\n",
        "+ 機械学習やデータマイニング，人工知能\n",
        "+ 組み込み開発"
      ]
    },
    {
      "metadata": {
        "id": "XImjecF2lA_J",
        "colab_type": "text"
      },
      "cell_type": "markdown",
      "source": [
        "# プログラミングを学習するにあたって<a name=\"_2\"></a>\n",
        "- 間違ったプログラム書いてもちゃんとエラー吐いて怒ってくれるのでどんどんプログラム書いて動かそう\n",
        "- プログラミング出来るようになりたいのような漠然な目標ではなく，オセロのAIを作りたいとか弾幕シューティングゲームを作りたいのような明確な目標を持とう．"
      ]
    },
    {
      "metadata": {
        "id": "NuKOmUlulA_K",
        "colab_type": "text"
      },
      "cell_type": "markdown",
      "source": [
        "# 文字列の表示とプログラムの実行<a name=\"_3\"></a>\n",
        "- 文字列は文字の羅列を`\"`または`'`でくくられたもの．\n",
        "- 文字列表示には`print`を使う<br>\n",
        "例） `print(\"「表示したい文字列」\")`\n",
        "- プログラムの実行は`Shift + Enter`"
      ]
    },
    {
      "metadata": {
        "id": "7_Nrcl9ZlA_L",
        "colab_type": "code",
        "colab": {}
      },
      "cell_type": "code",
      "source": [
        "print(\"hoge!\")"
      ],
      "execution_count": 0,
      "outputs": []
    },
    {
      "metadata": {
        "id": "ssHTF3eMlA_O",
        "colab_type": "code",
        "colab": {}
      },
      "cell_type": "code",
      "source": [
        "# シャープ記号`#`以降行末までは無視される．これをコメントアウトと言う\n",
        "print(\"hoge\") # hogeと表示"
      ],
      "execution_count": 0,
      "outputs": []
    },
    {
      "metadata": {
        "id": "gfFIsWiFlA_Q",
        "colab_type": "text"
      },
      "cell_type": "markdown",
      "source": [
        "# 型<a name=\"_4\"></a>\n",
        "- 型とはデータの種類のことである．\n",
        "- `type(型を知りたいデータ)`で調べることが出来る．\n",
        "\n",
        "|型名|種類|\n",
        "|--|--|\n",
        "|int|整数|\n",
        "|float|浮動小数点数|\n",
        "|str|文字列|\n",
        "|bool|真(True)偽(False)の2つ|"
      ]
    },
    {
      "metadata": {
        "id": "YNKmXAF-lA_S",
        "colab_type": "code",
        "colab": {}
      },
      "cell_type": "code",
      "source": [
        "print(type(3))\n",
        "print(type(3.14))\n",
        "print(type(\"3.14\"))\n",
        "print(type(True))"
      ],
      "execution_count": 0,
      "outputs": []
    },
    {
      "metadata": {
        "id": "2v1JqKaYlA_V",
        "colab_type": "text"
      },
      "cell_type": "markdown",
      "source": [
        "# 変数と四則演算<a name=\"_5\"></a>\n",
        "- 変数とは何かを保存しておく箱のこと．<br>\n",
        "例）`a = 3 # aという変数に3を代入`\n",
        "- 四則演算の演算子は以下の通り\n",
        "\n",
        "|演算子|機能|\n",
        "|:---:|:---:|\n",
        "|+|加算|\n",
        "|-|減算|\n",
        "|\\*|乗算|\n",
        "|/|除算|\n",
        "|//|除算(小数点以下切り捨て)|\n",
        "|%|余り|\n",
        "|\\*\\*|累乗|\n"
      ]
    },
    {
      "metadata": {
        "id": "nsKx7u4flA_W",
        "colab_type": "code",
        "colab": {}
      },
      "cell_type": "code",
      "source": [
        "a = 19\n",
        "b = 7\n",
        "print(a + b)\n",
        "print(a - b)\n",
        "print(a * b)\n",
        "print(a / b)\n",
        "print(a // b)\n",
        "print(a % b)"
      ],
      "execution_count": 0,
      "outputs": []
    },
    {
      "metadata": {
        "id": "NACuoXT1lA_Z",
        "colab_type": "text"
      },
      "cell_type": "markdown",
      "source": [
        "# リスト<a name=\"_6\"></a>\n",
        "- リストとは変数などのオブジェクトを複数保存しておくための箱である．\n",
        "- 添え字を使い要素を取り出す事が出来る．"
      ]
    },
    {
      "metadata": {
        "id": "uoKMCw9VlA_Z",
        "colab_type": "code",
        "colab": {}
      },
      "cell_type": "code",
      "source": [
        "c = [3, 5, 7]\n",
        "print(c)\n",
        "print(c[0])\n",
        "print(c[1])\n",
        "print(c[2])"
      ],
      "execution_count": 0,
      "outputs": []
    },
    {
      "metadata": {
        "id": "U4gTEmHUlA_e",
        "colab_type": "text"
      },
      "cell_type": "markdown",
      "source": [
        "# 文字列の操作<a name=\"_7\"></a>\n",
        "- 文字列の入力はinput()によって行う\n",
        "- 文字列の結合は`+`で行う．\n",
        "- 文字列の繰り返しは`*`で行う．\n",
        "- 文字列の前に`f`を付けた文字列内では`{}`に括られた変数は展開される"
      ]
    },
    {
      "metadata": {
        "id": "j2pTplJ3lA_e",
        "colab_type": "code",
        "colab": {}
      },
      "cell_type": "code",
      "source": [
        "d = input()\n",
        "e = \"var\"\n",
        "print(d + e)\n",
        "print(d * a)\n",
        "print(f\"{d}{e} piyo {a}\")"
      ],
      "execution_count": 0,
      "outputs": []
    },
    {
      "metadata": {
        "id": "IZ9JxTsylA_h",
        "colab_type": "text"
      },
      "cell_type": "markdown",
      "source": [
        "# 比較演算子と論理演算子<a name=\"_8\"></a>\n",
        "- 比較演算子は左右の値を比較しそれが真か偽をbool値で返す．\n",
        "\n",
        "|演算子|記述例|意味|\n",
        "|---|---|\n",
        "|==|a == b|bがaに等しい|\n",
        "|!=|a != b|bがaに等しくない|\n",
        "|>|a > b|bよりaが大きい|\n",
        "|>=|a >= b|bよりaが大きいか等しい|\n",
        "|<|a < b|bよりaが小さい|\n",
        "|<=|a <= b|bよりaが小さいか等しい\n",
        "- 論理演算子はbool値の演算を行いbool値を返す．\n",
        "\n",
        "|演算子|記述例|意味|\n",
        "|---|---|\n",
        "|and|a and b|aとbが共に真の場合に真|\n",
        "|or|a or b|aかbの少なくとも1つが真の場合に真|\n",
        "|not|not a|aが真の時に偽、偽の時に真|\n"
      ]
    },
    {
      "metadata": {
        "id": "c_iY22MOlA_i",
        "colab_type": "code",
        "colab": {}
      },
      "cell_type": "code",
      "source": [
        "f = 3 > 5\n",
        "g = 8 == 8\n",
        "print(f)\n",
        "print(g)\n",
        "print(f and g)\n",
        "print(f or g)"
      ],
      "execution_count": 0,
      "outputs": []
    },
    {
      "metadata": {
        "id": "3myxiSyGlA_l",
        "colab_type": "text"
      },
      "cell_type": "markdown",
      "source": [
        "# if文<a name=\"_9\"></a>\n",
        "- 条件分岐を行う事が出来る．\n",
        "- `if 条件:処理`のように書く．\n",
        "- 条件はbool型で表されTrue(真)とFalse(偽)の二種類が有る．\n",
        "- 更に分岐させたい場合`elif`を使う．\n",
        "- どの条件も満たさない時の処理を`else`以下に書く．"
      ]
    },
    {
      "metadata": {
        "id": "i8ciKlOelA_l",
        "colab_type": "code",
        "colab": {}
      },
      "cell_type": "code",
      "source": [
        "x = 9\n",
        "if x % 15 == 0:\n",
        "    print(\"FizzBuzz\")\n",
        "elif x % 3 == 0:\n",
        "    print(\"Fizz\")\n",
        "elif x % 5 == 0:\n",
        "    print(\"Buzz\")\n",
        "else:\n",
        "    print(x)"
      ],
      "execution_count": 0,
      "outputs": []
    },
    {
      "metadata": {
        "id": "qn5g-zj8lA_p",
        "colab_type": "text"
      },
      "cell_type": "markdown",
      "source": [
        "# for文<a name=\"_10\"></a>\n",
        "- 繰り返し行いたい時に使う．\n",
        "- `for i in range(繰り返す回数):処理`\n",
        "- for文の処理で`break`を使うとループから抜け出すことが出来る．"
      ]
    },
    {
      "metadata": {
        "id": "KHog6OBSlA_p",
        "colab_type": "code",
        "colab": {}
      },
      "cell_type": "code",
      "source": [
        "for i in range(15):\n",
        "#     if i > 8: break\n",
        "    print(i*2)"
      ],
      "execution_count": 0,
      "outputs": []
    },
    {
      "metadata": {
        "id": "UuMKazZglA_r",
        "colab_type": "text"
      },
      "cell_type": "markdown",
      "source": [
        "# 関数の定義<a name=\"_11\"></a>\n",
        "- 処理をまとめて書いたもの．\n",
        "- 関数の定義は`def 関数名(引数):`で行う．\n",
        "- 値を返す場合は`return`を用いる．\n",
        "- 関数の実行は`関数名()`で行う．"
      ]
    },
    {
      "metadata": {
        "id": "aPOLwLGKlA_r",
        "colab_type": "code",
        "colab": {}
      },
      "cell_type": "code",
      "source": [
        "def stepFunc(x):\n",
        "    if x >= 0:\n",
        "        return 1\n",
        "    else:\n",
        "        return 0"
      ],
      "execution_count": 0,
      "outputs": []
    },
    {
      "metadata": {
        "id": "mh78dEfllPi-",
        "colab_type": "text"
      },
      "cell_type": "markdown",
      "source": [
        "### 定義した関数を呼ぶ"
      ]
    },
    {
      "metadata": {
        "id": "65piMN6elA_u",
        "colab_type": "code",
        "colab": {}
      },
      "cell_type": "code",
      "source": [
        "print(stepFunc(0.4))\n",
        "print(stepFunc(0))\n",
        "print(stepFunc(-0.1))"
      ],
      "execution_count": 0,
      "outputs": []
    },
    {
      "metadata": {
        "id": "AkZZ_gM7lMeu",
        "colab_type": "text"
      },
      "cell_type": "markdown",
      "source": [
        "## クラスの定義<a name=\"_12\"></a>"
      ]
    },
    {
      "metadata": {
        "id": "wQ1WjyH2lUuP",
        "colab_type": "code",
        "colab": {}
      },
      "cell_type": "code",
      "source": [
        "class Hoge:\n",
        "    def __init__(self, a=10):\n",
        "        self.a = a\n",
        "        self.b = 100\n",
        "    \n",
        "    def __call__(self, x):\n",
        "        print(self.a * x)\n",
        "    \n",
        "    def add(self, x):\n",
        "        self.b+=x"
      ],
      "execution_count": 0,
      "outputs": []
    },
    {
      "metadata": {
        "id": "MHNNhW57l0eE",
        "colab_type": "text"
      },
      "cell_type": "markdown",
      "source": [
        "### 定義したクラスを使う"
      ]
    },
    {
      "metadata": {
        "id": "F9nNWmnil3ln",
        "colab_type": "code",
        "colab": {}
      },
      "cell_type": "code",
      "source": [
        "piyo = Hoge(135)\n",
        "piyo(100)\n",
        "piyo.add(89)\n",
        "print(piyo.b)"
      ],
      "execution_count": 0,
      "outputs": []
    }
  ]
}